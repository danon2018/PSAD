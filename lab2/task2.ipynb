{
 "cells": [
  {
   "cell_type": "markdown",
   "id": "fd045edf",
   "metadata": {},
   "source": [
    "# Задача 2.1."
   ]
  },
  {
   "cell_type": "markdown",
   "id": "9560c55f",
   "metadata": {},
   "source": [
    "---\n",
    "\n",
    "Выборка: 2.1.csv.\n",
    "\n",
    "Рассматривается задача тестирования вакцины от некоторого вируса. Производство вакцины очень дорогое и затратное по времени, поэтому в день может быть произведена только одна ампула.\n",
    "\n",
    "Требуется проверить, что вакцина помогает (вероятность заразиться меньше у человека с вакциной чем у человека без вакцины).\n",
    "\n",
    "Эксперимент ставится следующим образом: каждый день есть два идентичных по здоровью человека. Один из людей принимает вакцину, а второй нет, после чего обоих ставят в одну среду с вирусом. В конце для проверяют кто заразился. (В таблице: s - sick; h - healthy)\n",
    "\n",
    "Весь мир ждет вакцину от данного вируса, поэтому к руководству института постоянно приходят запросы о сроках завершения тестирования образца. Руководство поручило Вам оценить среднее время, которое понадобится на тестирования данной вакцины. А также провести анализ полученных данных на уровне значимости $\\alpha=0.05$ и при ошибке второго рода $\\beta=0.2$.\n",
    "\n",
    "Требуется:\n",
    "\n",
    "- Записать задачу формально\n",
    "- Выполнить оценку среднего количества дней для принятия решения (учесть что истинная вероятность заразиться с вакциной и без равны $p_1 = 0.2$, $p_2 = 0.5$ соответственно)\n",
    "- Выполнить анализ данных и выяснить работает ли вакцина или нет\n",
    "\n",
    "Все выкладки должны быть сделаны аналитически, без использования компьютера.\n",
    "\n",
    "---"
   ]
  },
  {
   "cell_type": "code",
   "execution_count": 16,
   "id": "d1e963fb",
   "metadata": {},
   "outputs": [],
   "source": [
    "import numpy as np\n",
    "import pandas as pd\n",
    "import sprt\n",
    "import scipy\n",
    "import scipy.stats as ss"
   ]
  },
  {
   "cell_type": "markdown",
   "id": "5363f10e",
   "metadata": {},
   "source": [
    "Puchkov task2.ipynb"
   ]
  },
  {
   "cell_type": "markdown",
   "id": "8885abea",
   "metadata": {},
   "source": [
    "Загрузим данные:"
   ]
  },
  {
   "cell_type": "code",
   "execution_count": 10,
   "id": "cbe69819",
   "metadata": {},
   "outputs": [
    {
     "data": {
      "text/html": [
       "<div>\n",
       "<style scoped>\n",
       "    .dataframe tbody tr th:only-of-type {\n",
       "        vertical-align: middle;\n",
       "    }\n",
       "\n",
       "    .dataframe tbody tr th {\n",
       "        vertical-align: top;\n",
       "    }\n",
       "\n",
       "    .dataframe thead th {\n",
       "        text-align: right;\n",
       "    }\n",
       "</style>\n",
       "<table border=\"1\" class=\"dataframe\">\n",
       "  <thead>\n",
       "    <tr style=\"text-align: right;\">\n",
       "      <th></th>\n",
       "      <th>with vaccine</th>\n",
       "      <th>without vaccine</th>\n",
       "    </tr>\n",
       "  </thead>\n",
       "  <tbody>\n",
       "    <tr>\n",
       "      <th>0</th>\n",
       "      <td>h</td>\n",
       "      <td>h</td>\n",
       "    </tr>\n",
       "    <tr>\n",
       "      <th>1</th>\n",
       "      <td>h</td>\n",
       "      <td>s</td>\n",
       "    </tr>\n",
       "    <tr>\n",
       "      <th>2</th>\n",
       "      <td>h</td>\n",
       "      <td>s</td>\n",
       "    </tr>\n",
       "    <tr>\n",
       "      <th>3</th>\n",
       "      <td>h</td>\n",
       "      <td>h</td>\n",
       "    </tr>\n",
       "    <tr>\n",
       "      <th>4</th>\n",
       "      <td>h</td>\n",
       "      <td>h</td>\n",
       "    </tr>\n",
       "    <tr>\n",
       "      <th>5</th>\n",
       "      <td>h</td>\n",
       "      <td>s</td>\n",
       "    </tr>\n",
       "    <tr>\n",
       "      <th>6</th>\n",
       "      <td>h</td>\n",
       "      <td>h</td>\n",
       "    </tr>\n",
       "    <tr>\n",
       "      <th>7</th>\n",
       "      <td>h</td>\n",
       "      <td>s</td>\n",
       "    </tr>\n",
       "    <tr>\n",
       "      <th>8</th>\n",
       "      <td>h</td>\n",
       "      <td>s</td>\n",
       "    </tr>\n",
       "    <tr>\n",
       "      <th>9</th>\n",
       "      <td>h</td>\n",
       "      <td>s</td>\n",
       "    </tr>\n",
       "    <tr>\n",
       "      <th>10</th>\n",
       "      <td>s</td>\n",
       "      <td>s</td>\n",
       "    </tr>\n",
       "    <tr>\n",
       "      <th>11</th>\n",
       "      <td>h</td>\n",
       "      <td>h</td>\n",
       "    </tr>\n",
       "    <tr>\n",
       "      <th>12</th>\n",
       "      <td>h</td>\n",
       "      <td>s</td>\n",
       "    </tr>\n",
       "    <tr>\n",
       "      <th>13</th>\n",
       "      <td>h</td>\n",
       "      <td>h</td>\n",
       "    </tr>\n",
       "    <tr>\n",
       "      <th>14</th>\n",
       "      <td>h</td>\n",
       "      <td>h</td>\n",
       "    </tr>\n",
       "    <tr>\n",
       "      <th>15</th>\n",
       "      <td>h</td>\n",
       "      <td>s</td>\n",
       "    </tr>\n",
       "    <tr>\n",
       "      <th>16</th>\n",
       "      <td>h</td>\n",
       "      <td>h</td>\n",
       "    </tr>\n",
       "    <tr>\n",
       "      <th>17</th>\n",
       "      <td>s</td>\n",
       "      <td>h</td>\n",
       "    </tr>\n",
       "    <tr>\n",
       "      <th>18</th>\n",
       "      <td>h</td>\n",
       "      <td>s</td>\n",
       "    </tr>\n",
       "    <tr>\n",
       "      <th>19</th>\n",
       "      <td>h</td>\n",
       "      <td>h</td>\n",
       "    </tr>\n",
       "    <tr>\n",
       "      <th>20</th>\n",
       "      <td>h</td>\n",
       "      <td>s</td>\n",
       "    </tr>\n",
       "    <tr>\n",
       "      <th>21</th>\n",
       "      <td>h</td>\n",
       "      <td>h</td>\n",
       "    </tr>\n",
       "    <tr>\n",
       "      <th>22</th>\n",
       "      <td>h</td>\n",
       "      <td>h</td>\n",
       "    </tr>\n",
       "    <tr>\n",
       "      <th>23</th>\n",
       "      <td>h</td>\n",
       "      <td>h</td>\n",
       "    </tr>\n",
       "    <tr>\n",
       "      <th>24</th>\n",
       "      <td>s</td>\n",
       "      <td>s</td>\n",
       "    </tr>\n",
       "    <tr>\n",
       "      <th>25</th>\n",
       "      <td>h</td>\n",
       "      <td>s</td>\n",
       "    </tr>\n",
       "    <tr>\n",
       "      <th>26</th>\n",
       "      <td>s</td>\n",
       "      <td>s</td>\n",
       "    </tr>\n",
       "    <tr>\n",
       "      <th>27</th>\n",
       "      <td>h</td>\n",
       "      <td>s</td>\n",
       "    </tr>\n",
       "    <tr>\n",
       "      <th>28</th>\n",
       "      <td>h</td>\n",
       "      <td>h</td>\n",
       "    </tr>\n",
       "    <tr>\n",
       "      <th>29</th>\n",
       "      <td>s</td>\n",
       "      <td>s</td>\n",
       "    </tr>\n",
       "  </tbody>\n",
       "</table>\n",
       "</div>"
      ],
      "text/plain": [
       "   with vaccine without vaccine\n",
       "0             h               h\n",
       "1             h               s\n",
       "2             h               s\n",
       "3             h               h\n",
       "4             h               h\n",
       "5             h               s\n",
       "6             h               h\n",
       "7             h               s\n",
       "8             h               s\n",
       "9             h               s\n",
       "10            s               s\n",
       "11            h               h\n",
       "12            h               s\n",
       "13            h               h\n",
       "14            h               h\n",
       "15            h               s\n",
       "16            h               h\n",
       "17            s               h\n",
       "18            h               s\n",
       "19            h               h\n",
       "20            h               s\n",
       "21            h               h\n",
       "22            h               h\n",
       "23            h               h\n",
       "24            s               s\n",
       "25            h               s\n",
       "26            s               s\n",
       "27            h               s\n",
       "28            h               h\n",
       "29            s               s"
      ]
     },
     "execution_count": 10,
     "metadata": {},
     "output_type": "execute_result"
    }
   ],
   "source": [
    "df = pd.read_csv('2.1.csv')\n",
    "df"
   ]
  },
  {
   "cell_type": "markdown",
   "id": "86325b43",
   "metadata": {},
   "source": [
    "## 1. Формальная постановка задачи:"
   ]
  },
  {
   "cell_type": "markdown",
   "id": "11db7a00",
   "metadata": {},
   "source": [
    "Условия:\n",
    "- $H_0$ - вероятность заразиться меньше у человека с вакциной, чем у человека без вакцины ($p\\leq lower$).\n",
    "- $H_1$ - вероятность заразиться больше либо равна у человека с вакциной, чем у человека без вакцины($p\\geq upper$).\n",
    "- $lower$ - нижняя граница области безразличия\n",
    "- $upper$ - верхняя граница области безразличия\n",
    "- $\\alpha$ - ошибка 1 рода, отвергаем $H_0$ при $p\\leq lower$ при ее верности\n",
    "- $\\beta$ - ошибка 2 рода, принимаем $H_1$ при $p\\geq upper$ при ее верности\n",
    "- $X_1=(X_1^0,...,X_1^{29})$, $X_2=(X_2^0,...,X_2^{29})$ - выборки\n",
    "\n",
    "Статистика: \n",
    "- $d_m(X_1, X_2) = \\sum_{i=0}^29(1-X_1^i)X_2^i$\n",
    "\n",
    "Обозначения:\n",
    "- $A=\\frac{1-\\beta}{\\alpha}$\n",
    "- $B=\\frac{\\beta}{1-\\alpha}$\n",
    "- $h$ - решение следующего уравнения: $p=\\frac{1-(\\frac{1-upper}{1-lower})^x}{(\\frac{upper}{lower})^x-(\\frac{1-upper}{1-lower})^x}$\n",
    "- Оперативная характеристика: $L=\\frac{A^h-1}{A^h-B^h}$\n",
    "- Мат. ожидание числа итераций: $E=\\frac{L\\log B + (1-L)\\log A}{p\\log\\frac{p}{p_0}+(1-p)\\log\\frac{1-p}{1-p_0}}$"
   ]
  },
  {
   "cell_type": "markdown",
   "id": "b5cd469d",
   "metadata": {},
   "source": [
    "## 2. Мат. ожидание числа итераций:"
   ]
  },
  {
   "cell_type": "code",
   "execution_count": 11,
   "id": "23108838",
   "metadata": {},
   "outputs": [
    {
     "name": "stdout",
     "output_type": "stream",
     "text": [
      "\n",
      " Математическое ожидание числа итераций: 8\n"
     ]
    }
   ],
   "source": [
    "alpha = 0.05\n",
    "beta = 0.2\n",
    "p1 = 0.2\n",
    "p2 = 0.5\n",
    "\n",
    "def expectation(p, p_0, alpha, beta, h):\n",
    "    A = (1 - beta)/alpha\n",
    "    B = beta/(1 - alpha)\n",
    "    L = (A**h - 1)/(A**h - B**h)\n",
    "    \n",
    "    result = (L * np.log(B) + (1 - L) * np.log(A))/ (p * np.log(p/p_0) + (1 - p) * np.log((1 - p)/(1 - p_0)) )\n",
    "    \n",
    "    return result\n",
    "\n",
    "\n",
    "def f(x):\n",
    "    s = (1 - ((1 - p2)/(1 - p1))**x)/((p2/p1)**x - ((1 - p2)/(1 - p1))**x ) - p2\n",
    "    return s\n",
    "\n",
    "solution = scipy.optimize.root_scalar(f, bracket=[-10, 10], method='brentq')\n",
    "print('\\n Математическое ожидание числа итераций:', int(expectation(p2, p1, alpha, beta, solution.root)))"
   ]
  },
  {
   "cell_type": "markdown",
   "id": "4e426a75",
   "metadata": {},
   "source": [
    "Воспользуемся последовательным критерием Вальда. Вероятность заразиться меньше у человека с вакциной, чем у человека без вакцины $\\Leftrightarrow$ $\\forall i: df[i][0]>df[i][1]$."
   ]
  },
  {
   "cell_type": "code",
   "execution_count": 12,
   "id": "ee40b082",
   "metadata": {},
   "outputs": [],
   "source": [
    "temp = (df.values == 'h').astype(int)\n",
    "df = pd.DataFrame(temp)\n",
    "df.columns = ['with vaccine', 'without vaccine']\n",
    "df['deltas'] = (df['with vaccine'] > df['without vaccine'])"
   ]
  },
  {
   "cell_type": "markdown",
   "id": "0e957531",
   "metadata": {},
   "source": [
    "**Формальная постановка задачи** после преобразования данных: найти минимальный шаг, при котором мы покинем область безразличия."
   ]
  },
  {
   "cell_type": "code",
   "execution_count": 17,
   "id": "bfde972a",
   "metadata": {},
   "outputs": [
    {
     "name": "stdout",
     "output_type": "stream",
     "text": [
      "Decision:\tContinue\n",
      "\n",
      "    values  lower   upper\n",
      "n                        \n",
      "21    10.0  5.996   9.120\n",
      "22    10.0  6.335   9.459\n",
      "23    10.0  6.674   9.798\n",
      "24    10.0  7.013  10.137\n",
      "25    11.0  7.352  10.476\n",
      "26    11.0  7.691  10.815\n",
      "27    12.0  8.030  11.154\n",
      "28    12.0  8.369  11.493\n",
      "29    12.0  8.708  11.832\n",
      "30     NaN  9.047  12.171\n"
     ]
    },
    {
     "data": {
      "image/png": "[encoded data removed]",
      "text/plain": [
       "<Figure size 800x600 with 1 Axes>"
      ]
     },
     "metadata": {},
     "output_type": "display_data"
    }
   ],
   "source": [
    "temp = sprt.SPRTBinomial(alpha=alpha, beta=beta, h0=p1, h1=p2, values=df['deltas'])\n",
    "temp.plot()"
   ]
  },
  {
   "cell_type": "markdown",
   "id": "874d88eb",
   "metadata": {},
   "source": [
    "## 3. Минимальное количество итераций для вынесения решения по данной гипотезе"
   ]
  },
  {
   "cell_type": "code",
   "execution_count": 18,
   "id": "87680597",
   "metadata": {},
   "outputs": [
    {
     "name": "stdout",
     "output_type": "stream",
     "text": [
      "Decision:\tReject\n",
      "\n",
      "    values  lower  upper\n",
      "n                       \n",
      "1      1.0 -0.785  2.339\n",
      "2      2.0 -0.446  2.678\n",
      "3      2.0 -0.107  3.017\n",
      "4      2.0  0.232  3.356\n",
      "5      3.0  0.571  3.695\n",
      "6      3.0  0.910  4.034\n",
      "7      4.0  1.249  4.373\n",
      "8      5.0  1.588  4.712\n",
      "9      6.0  1.927  5.051\n",
      "10     NaN  2.266  5.390\n"
     ]
    },
    {
     "data": {
      "image/png": "[encoded data removed]",
      "text/plain": [
       "<Figure size 800x600 with 1 Axes>"
      ]
     },
     "metadata": {},
     "output_type": "display_data"
    }
   ],
   "source": [
    "temp = sprt.SPRTBinomial(alpha=alpha, beta=beta, h0=p1, h1=p2, values=df['deltas'][:10])\n",
    "temp.plot()"
   ]
  },
  {
   "cell_type": "markdown",
   "id": "6a083d3f",
   "metadata": {},
   "source": [
    "**Вывод**: потребуется 10 дней для тестирования образца (на 10-м шаге мы попадаем в область отклонения), то есть вакцина не работает .\n",
    "\n"
   ]
  },
  {
   "cell_type": "code",
   "execution_count": null,
   "id": "9e4d1d9d",
   "metadata": {},
   "outputs": [],
   "source": []
  }
 ],
 "metadata": {
  "kernelspec": {
   "display_name": "Python 3 (ipykernel)",
   "language": "python",
   "name": "python3"
  },
  "language_info": {
   "codemirror_mode": {
    "name": "ipython",
    "version": 3
   },
   "file_extension": ".py",
   "mimetype": "text/x-python",
   "name": "python",
   "nbconvert_exporter": "python",
   "pygments_lexer": "ipython3",
   "version": "3.9.13"
  }
 },
 "nbformat": 4,
 "nbformat_minor": 5
}
