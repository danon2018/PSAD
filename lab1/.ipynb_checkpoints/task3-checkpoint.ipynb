{
 "cells": [
  {
   "cell_type": "markdown",
   "id": "f6f2552a",
   "metadata": {},
   "source": [
    "# Задача 3.3."
   ]
  },
  {
   "cell_type": "markdown",
   "id": "7be2298d",
   "metadata": {},
   "source": [
    "---\n",
    "Выборка: Wine (https://scikit-learn.org/stable/modules/generated/sklearn.datasets.load_wine.html).\n",
    "\n",
    "Предложить метод выбора наиболее важных признаков для логистической регрессии на основе изученных методов прикладной статистики. Осуществить выбор.\n",
    "\n",
    "---"
   ]
  },
  {
   "cell_type": "code",
   "execution_count": 63,
   "id": "fe0e2f82",
   "metadata": {},
   "outputs": [],
   "source": [
    "from sklearn.datasets import load_wine\n",
    "from sklearn.linear_model import LogisticRegression\n",
    "import statsmodels.api as sm\n",
    "import numpy as np\n",
    "import pandas as pd\n",
    "import seaborn as sns\n",
    "import matplotlib.pyplot as plt\n",
    "from sklearn.metrics import roc_auc_score\n",
    "from tqdm import trange, tqdm"
   ]
  },
  {
   "cell_type": "markdown",
   "id": "84f4a39f",
   "metadata": {},
   "source": [
    "### 1. Вначале загрузим датасет и посмотри на его наполнение и характеристики"
   ]
  },
  {
   "cell_type": "code",
   "execution_count": 2,
   "id": "d1d21dab",
   "metadata": {},
   "outputs": [
    {
     "name": "stdout",
     "output_type": "stream",
     "text": [
      ".. _wine_dataset:\n",
      "\n",
      "Wine recognition dataset\n",
      "------------------------\n",
      "\n",
      "**Data Set Characteristics:**\n",
      "\n",
      "    :Number of Instances: 178 (50 in each of three classes)\n",
      "    :Number of Attributes: 13 numeric, predictive attributes and the class\n",
      "    :Attribute Information:\n",
      " \t\t- Alcohol\n",
      " \t\t- Malic acid\n",
      " \t\t- Ash\n",
      "\t\t- Alcalinity of ash  \n",
      " \t\t- Magnesium\n",
      "\t\t- Total phenols\n",
      " \t\t- Flavanoids\n",
      " \t\t- Nonflavanoid phenols\n",
      " \t\t- Proanthocyanins\n",
      "\t\t- Color intensity\n",
      " \t\t- Hue\n",
      " \t\t- OD280/OD315 of diluted wines\n",
      " \t\t- Proline\n",
      "\n",
      "    - class:\n",
      "            - class_0\n",
      "            - class_1\n",
      "            - class_2\n",
      "\t\t\n",
      "    :Summary Statistics:\n",
      "    \n",
      "    ============================= ==== ===== ======= =====\n",
      "                                   Min   Max   Mean     SD\n",
      "    ============================= ==== ===== ======= =====\n",
      "    Alcohol:                      11.0  14.8    13.0   0.8\n",
      "    Malic Acid:                   0.74  5.80    2.34  1.12\n",
      "    Ash:                          1.36  3.23    2.36  0.27\n",
      "    Alcalinity of Ash:            10.6  30.0    19.5   3.3\n",
      "    Magnesium:                    70.0 162.0    99.7  14.3\n",
      "    Total Phenols:                0.98  3.88    2.29  0.63\n",
      "    Flavanoids:                   0.34  5.08    2.03  1.00\n",
      "    Nonflavanoid Phenols:         0.13  0.66    0.36  0.12\n",
      "    Proanthocyanins:              0.41  3.58    1.59  0.57\n",
      "    Colour Intensity:              1.3  13.0     5.1   2.3\n",
      "    Hue:                          0.48  1.71    0.96  0.23\n",
      "    OD280/OD315 of diluted wines: 1.27  4.00    2.61  0.71\n",
      "    Proline:                       278  1680     746   315\n",
      "    ============================= ==== ===== ======= =====\n",
      "\n",
      "    :Missing Attribute Values: None\n",
      "    :Class Distribution: class_0 (59), class_1 (71), class_2 (48)\n",
      "    :Creator: R.A. Fisher\n",
      "    :Donor: Michael Marshall (MARSHALL%PLU@io.arc.nasa.gov)\n",
      "    :Date: July, 1988\n",
      "\n",
      "This is a copy of UCI ML Wine recognition datasets.\n",
      "https://archive.ics.uci.edu/ml/machine-learning-databases/wine/wine.data\n",
      "\n",
      "The data is the results of a chemical analysis of wines grown in the same\n",
      "region in Italy by three different cultivators. There are thirteen different\n",
      "measurements taken for different constituents found in the three types of\n",
      "wine.\n",
      "\n",
      "Original Owners: \n",
      "\n",
      "Forina, M. et al, PARVUS - \n",
      "An Extendible Package for Data Exploration, Classification and Correlation. \n",
      "Institute of Pharmaceutical and Food Analysis and Technologies,\n",
      "Via Brigata Salerno, 16147 Genoa, Italy.\n",
      "\n",
      "Citation:\n",
      "\n",
      "Lichman, M. (2013). UCI Machine Learning Repository\n",
      "[https://archive.ics.uci.edu/ml]. Irvine, CA: University of California,\n",
      "School of Information and Computer Science. \n",
      "\n",
      ".. topic:: References\n",
      "\n",
      "  (1) S. Aeberhard, D. Coomans and O. de Vel, \n",
      "  Comparison of Classifiers in High Dimensional Settings, \n",
      "  Tech. Rep. no. 92-02, (1992), Dept. of Computer Science and Dept. of  \n",
      "  Mathematics and Statistics, James Cook University of North Queensland. \n",
      "  (Also submitted to Technometrics). \n",
      "\n",
      "  The data was used with many others for comparing various \n",
      "  classifiers. The classes are separable, though only RDA \n",
      "  has achieved 100% correct classification. \n",
      "  (RDA : 100%, QDA 99.4%, LDA 98.9%, 1NN 96.1% (z-transformed data)) \n",
      "  (All results using the leave-one-out technique) \n",
      "\n",
      "  (2) S. Aeberhard, D. Coomans and O. de Vel, \n",
      "  \"THE CLASSIFICATION PERFORMANCE OF RDA\" \n",
      "  Tech. Rep. no. 92-01, (1992), Dept. of Computer Science and Dept. of \n",
      "  Mathematics and Statistics, James Cook University of North Queensland. \n",
      "  (Also submitted to Journal of Chemometrics).\n",
      "\n"
     ]
    }
   ],
   "source": [
    "print(load_wine()['DESCR'])\n",
    "X, y = load_wine(return_X_y=True)"
   ]
  },
  {
   "cell_type": "markdown",
   "id": "5d69059d",
   "metadata": {},
   "source": [
    "### 2. Обучим модель логистической регрессии на данном датасете "
   ]
  },
  {
   "cell_type": "markdown",
   "id": "e413ca0e",
   "metadata": {},
   "source": [
    "#### Препроцессинг данных. Вначале стандартизуем данные в датасете:"
   ]
  },
  {
   "cell_type": "code",
   "execution_count": 15,
   "id": "fd6e2b28",
   "metadata": {},
   "outputs": [],
   "source": [
    "from sklearn.preprocessing import StandardScaler"
   ]
  },
  {
   "cell_type": "code",
   "execution_count": 81,
   "id": "d392a4d4",
   "metadata": {},
   "outputs": [],
   "source": [
    "scaler = StandardScaler()\n",
    "scaler.fit(X)\n",
    "\n",
    "X_scaled = scaler.transform(X)"
   ]
  },
  {
   "cell_type": "code",
   "execution_count": 82,
   "id": "eefde216",
   "metadata": {},
   "outputs": [],
   "source": [
    "X_scaled = pd.DataFrame(X_scaled)\n",
    "X_scaled.columns = ['Alcohol', 'Malic acid', 'Ash', \n",
    "                    'Alcalinity of ash', 'Magnesium', 'Total phenols',\n",
    "                    'Flavanoids', 'Nonflavanoid phenols', 'Proanthocyanins',\n",
    "                    'Color intensity', 'Hue', 'OD280/OD315 of diluted wines',\n",
    "                    'Proline']"
   ]
  },
  {
   "cell_type": "markdown",
   "id": "97ad3b58",
   "metadata": {},
   "source": [
    "#### Обучение модели логистической регрессии со всеми фичами:"
   ]
  },
  {
   "cell_type": "code",
   "execution_count": 83,
   "id": "312172ae",
   "metadata": {},
   "outputs": [
    {
     "name": "stdout",
     "output_type": "stream",
     "text": [
      "ROC-AUC score на полном датасете:  1.0\n"
     ]
    }
   ],
   "source": [
    "model = LogisticRegression(penalty='none', fit_intercept=True, multi_class='ovr', \n",
    "                           solver='saga', max_iter=10000)\n",
    "\n",
    "model.fit(X_scaled, y)\n",
    "\n",
    "print('ROC-AUC score на полном датасете: ', \n",
    "      roc_auc_score(y, model.predict_proba(X_scaled), multi_class='ovr', average='macro'))"
   ]
  },
  {
   "cell_type": "markdown",
   "id": "72180d10",
   "metadata": {},
   "source": [
    "Таким образом, получаем, что базовая модель логистической регрессии может полностью выучить данный набор данных. Пусть итоговое качество по ROC-AUC score, которое мы хотим получить после cокращения кол-ва переменных, должно быть таким же, то есть хотим получить roc_auc_score=1 на наиболее маленьком подмножестве фичей."
   ]
  },
  {
   "cell_type": "markdown",
   "id": "1beeecc4",
   "metadata": {},
   "source": [
    "#### feature_selection по методу прямого включения:"
   ]
  },
  {
   "cell_type": "markdown",
   "id": "640854d7",
   "metadata": {},
   "source": [
    "У нас всего 13 фичей, будем поочередно добавлять самые значимые переменные, пока не достигнем roc_auc_score=1."
   ]
  },
  {
   "cell_type": "markdown",
   "id": "a22ba9f2",
   "metadata": {},
   "source": [
    "1) 1 фича:"
   ]
  },
  {
   "cell_type": "code",
   "execution_count": 87,
   "id": "aaae4834",
   "metadata": {},
   "outputs": [
    {
     "data": {
      "text/plain": [
       "{'Alcohol': 0.847008210262056,\n",
       " 'Malic acid': 0.7050743537873609,\n",
       " 'Ash': 0.651504672318106,\n",
       " 'Alcalinity of ash': 0.7324511049471116,\n",
       " 'Magnesium': 0.6911729335885842,\n",
       " 'Total phenols': 0.813522592196609,\n",
       " 'Flavanoids': 0.9301292982316886,\n",
       " 'Nonflavanoid phenols': 0.6859860437504759,\n",
       " 'Proanthocyanins': 0.7244476998347528,\n",
       " 'Color intensity': 0.8785817197348006,\n",
       " 'Hue': 0.7638688165474422,\n",
       " 'OD280/OD315 of diluted wines': 0.8462901170783148,\n",
       " 'Proline': 0.8861056271549881}"
      ]
     },
     "execution_count": 87,
     "metadata": {},
     "output_type": "execute_result"
    }
   ],
   "source": [
    "roc_auc_score_dict = {}\n",
    "\n",
    "for col in X_scaled.columns:\n",
    "    X_train = X_scaled[[col]]\n",
    "\n",
    "    model = LogisticRegression(penalty='none', fit_intercept=True, multi_class='ovr', \n",
    "                               solver='saga', max_iter=10000)\n",
    "    model.fit(X_train, y)\n",
    "\n",
    "    roc_auc_score_dict[col] = roc_auc_score(y, model.predict_proba(X_train), multi_class='ovr', average='macro')\n",
    "\n",
    "roc_auc_score_dict"
   ]
  },
  {
   "cell_type": "markdown",
   "id": "6026ed0a",
   "metadata": {},
   "source": [
    "**Вывод**: самая значимая переменная - `Flavanoids`, выбираем ее."
   ]
  },
  {
   "cell_type": "markdown",
   "id": "5eb2099c",
   "metadata": {},
   "source": [
    "2) 2 фичи:"
   ]
  },
  {
   "cell_type": "code",
   "execution_count": 88,
   "id": "3f0203b4",
   "metadata": {},
   "outputs": [
    {
     "data": {
      "text/plain": [
       "{'Alcohol': 0.980531075457069,\n",
       " 'Malic acid': 0.9134426316373835,\n",
       " 'Ash': 0.9288987381166139,\n",
       " 'Alcalinity of ash': 0.9517136374379538,\n",
       " 'Magnesium': 0.9285731696665761,\n",
       " 'Total phenols': 0.9225646885698273,\n",
       " 'Nonflavanoid phenols': 0.926580320100007,\n",
       " 'Proanthocyanins': 0.9365489202075254,\n",
       " 'Color intensity': 0.9802322102680137,\n",
       " 'Hue': 0.929486034839246,\n",
       " 'OD280/OD315 of diluted wines': 0.9335446075132457,\n",
       " 'Proline': 0.9731773891359534}"
      ]
     },
     "execution_count": 88,
     "metadata": {},
     "output_type": "execute_result"
    }
   ],
   "source": [
    "roc_auc_score_dict = {}\n",
    "\n",
    "for col in X_scaled.columns:\n",
    "    if col !='Flavanoids':\n",
    "        X_train = X_scaled[['Flavanoids', col]]\n",
    "\n",
    "        model = LogisticRegression(penalty='none', fit_intercept=True, multi_class='ovr', \n",
    "                                   solver='saga', max_iter=10000)\n",
    "        model.fit(X_train, y)\n",
    "\n",
    "        roc_auc_score_dict[col] = roc_auc_score(y, model.predict_proba(X_train), multi_class='ovr', average='macro')\n",
    "\n",
    "roc_auc_score_dict"
   ]
  },
  {
   "cell_type": "markdown",
   "id": "8d4db71e",
   "metadata": {},
   "source": [
    "**Вывод**: самая значимая переменная - `Alcohol`, выбираем ее."
   ]
  },
  {
   "cell_type": "markdown",
   "id": "59350755",
   "metadata": {},
   "source": [
    "3) 3 фичи: "
   ]
  },
  {
   "cell_type": "code",
   "execution_count": 89,
   "id": "d83fc639",
   "metadata": {},
   "outputs": [
    {
     "data": {
      "text/plain": [
       "{'Malic acid': 0.9798501103054397,\n",
       " 'Ash': 0.9859225264321564,\n",
       " 'Alcalinity of ash': 0.9832576831413111,\n",
       " 'Magnesium': 0.9830242430752184,\n",
       " 'Total phenols': 0.9796991187874932,\n",
       " 'Nonflavanoid phenols': 0.9816174332896166,\n",
       " 'Proanthocyanins': 0.9811581511320521,\n",
       " 'Color intensity': 0.9924883272965433,\n",
       " 'Hue': 0.988694611571247,\n",
       " 'OD280/OD315 of diluted wines': 0.9827657715902322,\n",
       " 'Proline': 0.9924068480027864}"
      ]
     },
     "execution_count": 89,
     "metadata": {},
     "output_type": "execute_result"
    }
   ],
   "source": [
    "roc_auc_score_dict = {}\n",
    "\n",
    "for col in X_scaled.columns:\n",
    "    if col !='Flavanoids' and col != 'Alcohol':\n",
    "        X_train = X_scaled[['Flavanoids', 'Alcohol', col]]\n",
    "\n",
    "        model = LogisticRegression(penalty='none', fit_intercept=True, multi_class='ovr', \n",
    "                                   solver='saga', max_iter=10000)\n",
    "        model.fit(X_train, y)\n",
    "\n",
    "        roc_auc_score_dict[col] = roc_auc_score(y, model.predict_proba(X_train), multi_class='ovr', average='macro')\n",
    "\n",
    "roc_auc_score_dict"
   ]
  },
  {
   "cell_type": "markdown",
   "id": "1a46cc8b",
   "metadata": {},
   "source": [
    "**Вывод**: самая значимая переменная - `Color intensity`, выбираем ее."
   ]
  },
  {
   "cell_type": "markdown",
   "id": "d0025bbd",
   "metadata": {},
   "source": [
    "4) 4 фичи:"
   ]
  },
  {
   "cell_type": "code",
   "execution_count": 90,
   "id": "bd55d5b1",
   "metadata": {},
   "outputs": [
    {
     "data": {
      "text/plain": [
       "{'Malic acid': 0.993831323573774,\n",
       " 'Ash': 0.9959581631069733,\n",
       " 'Alcalinity of ash': 0.9932736602188658,\n",
       " 'Magnesium': 0.9953602224318728,\n",
       " 'Total phenols': 0.9935973684467574,\n",
       " 'Nonflavanoid phenols': 0.9934002626781208,\n",
       " 'Proanthocyanins': 0.9928571696053344,\n",
       " 'Hue': 0.995132381177484,\n",
       " 'OD280/OD315 of diluted wines': 0.995000750270547,\n",
       " 'Proline': 0.9991826744800046}"
      ]
     },
     "execution_count": 90,
     "metadata": {},
     "output_type": "execute_result"
    }
   ],
   "source": [
    "roc_auc_score_dict = {}\n",
    "\n",
    "for col in X_scaled.columns:\n",
    "    if col !='Flavanoids' and col != 'Alcohol' and col != 'Color intensity':\n",
    "        X_train = X_scaled[['Flavanoids', 'Alcohol', 'Color intensity', col]]\n",
    "\n",
    "        model = LogisticRegression(penalty='none', fit_intercept=True, multi_class='ovr', \n",
    "                                   solver='saga', max_iter=10000)\n",
    "        model.fit(X_train, y)\n",
    "\n",
    "        roc_auc_score_dict[col] = roc_auc_score(y, model.predict_proba(X_train), multi_class='ovr', average='macro')\n",
    "\n",
    "roc_auc_score_dict"
   ]
  },
  {
   "cell_type": "markdown",
   "id": "897176f5",
   "metadata": {},
   "source": [
    "**Вывод**: самая значимая переменная - `Proline`, выбираем ее."
   ]
  },
  {
   "cell_type": "markdown",
   "id": "4d5a1c40",
   "metadata": {},
   "source": [
    "5) 5 фичей:"
   ]
  },
  {
   "cell_type": "code",
   "execution_count": 91,
   "id": "36aa04db",
   "metadata": {},
   "outputs": [
    {
     "data": {
      "text/plain": [
       "{'Malic acid': 0.9996761200851338,\n",
       " 'Ash': 0.9998208924752973,\n",
       " 'Alcalinity of ash': 0.9991790748312179,\n",
       " 'Magnesium': 0.9994116011593395,\n",
       " 'Total phenols': 0.9996820622707868,\n",
       " 'Nonflavanoid phenols': 0.9994116011593395,\n",
       " 'Proanthocyanins': 0.9995468317150631,\n",
       " 'Hue': 0.9999086464132553,\n",
       " 'OD280/OD315 of diluted wines': 0.9996381853018078}"
      ]
     },
     "execution_count": 91,
     "metadata": {},
     "output_type": "execute_result"
    }
   ],
   "source": [
    "roc_auc_score_dict = {}\n",
    "\n",
    "for col in X_scaled.columns:\n",
    "    if col !='Flavanoids' and col != 'Alcohol' and col != 'Color intensity' and col != 'Proline':\n",
    "        X_train = X_scaled[['Flavanoids', 'Alcohol', 'Color intensity', 'Proline', col]]\n",
    "\n",
    "        model = LogisticRegression(penalty='none', fit_intercept=True, multi_class='ovr', \n",
    "                                   solver='saga', max_iter=10000)\n",
    "        model.fit(X_train, y)\n",
    "\n",
    "        roc_auc_score_dict[col] = roc_auc_score(y, model.predict_proba(X_train), multi_class='ovr', average='macro')\n",
    "\n",
    "roc_auc_score_dict"
   ]
  },
  {
   "cell_type": "markdown",
   "id": "19703234",
   "metadata": {},
   "source": [
    "**Вывод**: самая значимая переменная - `Hue`, выбираем ее."
   ]
  },
  {
   "cell_type": "markdown",
   "id": "a04407ce",
   "metadata": {},
   "source": [
    "6) 6 фичей:"
   ]
  },
  {
   "cell_type": "code",
   "execution_count": 92,
   "id": "ce0e9c0e",
   "metadata": {},
   "outputs": [
    {
     "data": {
      "text/plain": [
       "{'Malic acid': 0.9999086464132553,\n",
       " 'Ash': 1.0,\n",
       " 'Alcalinity of ash': 1.0,\n",
       " 'Magnesium': 0.9999086464132553,\n",
       " 'Total phenols': 1.0,\n",
       " 'Nonflavanoid phenols': 0.9999086464132553,\n",
       " 'Proanthocyanins': 0.9999086464132553,\n",
       " 'OD280/OD315 of diluted wines': 0.9999086464132553}"
      ]
     },
     "execution_count": 92,
     "metadata": {},
     "output_type": "execute_result"
    }
   ],
   "source": [
    "roc_auc_score_dict = {}\n",
    "\n",
    "for col in X_scaled.columns:\n",
    "    if col !='Flavanoids' and col != 'Alcohol' and col != 'Color intensity' and col != 'Proline' and col != 'Hue':\n",
    "        X_train = X_scaled[['Flavanoids', 'Alcohol', 'Color intensity', 'Proline', 'Hue', col]]\n",
    "\n",
    "        model = LogisticRegression(penalty='none', fit_intercept=True, multi_class='ovr', \n",
    "                                   solver='saga', max_iter=10000)\n",
    "        model.fit(X_train, y)\n",
    "\n",
    "        roc_auc_score_dict[col] = roc_auc_score(y, model.predict_proba(X_train), multi_class='ovr', average='macro')\n",
    "\n",
    "roc_auc_score_dict"
   ]
  },
  {
   "cell_type": "markdown",
   "id": "c13536bd",
   "metadata": {},
   "source": [
    "**Вывод**: самые значимые переменные - `Ash`, `Alcalinity of ash`, `Total phenols`. Выберем, например, переменную `Ash`."
   ]
  },
  {
   "cell_type": "markdown",
   "id": "9a6645a7",
   "metadata": {},
   "source": [
    "Таким образом, мы получили 6 наиболее значимых переменных (в порядке возрастания): `Flavanoids`, `Alcohol`, `Color intensity`, `Proline`, `Hue`, `Ash`."
   ]
  },
  {
   "cell_type": "code",
   "execution_count": null,
   "id": "7c3602b9",
   "metadata": {},
   "outputs": [],
   "source": []
  }
 ],
 "metadata": {
  "kernelspec": {
   "display_name": "Python 3 (ipykernel)",
   "language": "python",
   "name": "python3"
  },
  "language_info": {
   "codemirror_mode": {
    "name": "ipython",
    "version": 3
   },
   "file_extension": ".py",
   "mimetype": "text/x-python",
   "name": "python",
   "nbconvert_exporter": "python",
   "pygments_lexer": "ipython3",
   "version": "3.9.13"
  }
 },
 "nbformat": 4,
 "nbformat_minor": 5
}
